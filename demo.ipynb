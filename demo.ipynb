{
  "cells": [
    {
      "cell_type": "markdown",
      "metadata": {
        "id": "view-in-github",
        "colab_type": "text"
      },
      "source": [
        "<a href=\"https://colab.research.google.com/github/tgieruc/Noise2Noise_fromScratch/blob/main/demo.ipynb\" target=\"_parent\"><img src=\"https://colab.research.google.com/assets/colab-badge.svg\" alt=\"Open In Colab\"/></a>"
      ]
    },
    {
      "cell_type": "code",
      "source": [
        "!pip install --upgrade gdown"
      ],
      "metadata": {
        "id": "do5lGbg4gbTA",
        "outputId": "e5305066-6284-4c1a-a952-0b052938c8ff",
        "colab": {
          "base_uri": "https://localhost:8080/"
        }
      },
      "execution_count": 1,
      "outputs": [
        {
          "output_type": "stream",
          "name": "stdout",
          "text": [
            "Looking in indexes: https://pypi.org/simple, https://us-python.pkg.dev/colab-wheels/public/simple/\n",
            "Requirement already satisfied: gdown in /usr/local/lib/python3.9/dist-packages (4.6.4)\n",
            "Collecting gdown\n",
            "  Downloading gdown-4.6.6-py3-none-any.whl (14 kB)\n",
            "Requirement already satisfied: filelock in /usr/local/lib/python3.9/dist-packages (from gdown) (3.10.1)\n",
            "Requirement already satisfied: tqdm in /usr/local/lib/python3.9/dist-packages (from gdown) (4.65.0)\n",
            "Requirement already satisfied: beautifulsoup4 in /usr/local/lib/python3.9/dist-packages (from gdown) (4.11.2)\n",
            "Requirement already satisfied: requests[socks] in /usr/local/lib/python3.9/dist-packages (from gdown) (2.27.1)\n",
            "Requirement already satisfied: six in /usr/local/lib/python3.9/dist-packages (from gdown) (1.16.0)\n",
            "Requirement already satisfied: soupsieve>1.2 in /usr/local/lib/python3.9/dist-packages (from beautifulsoup4->gdown) (2.4)\n",
            "Requirement already satisfied: idna<4,>=2.5 in /usr/local/lib/python3.9/dist-packages (from requests[socks]->gdown) (3.4)\n",
            "Requirement already satisfied: certifi>=2017.4.17 in /usr/local/lib/python3.9/dist-packages (from requests[socks]->gdown) (2022.12.7)\n",
            "Requirement already satisfied: urllib3<1.27,>=1.21.1 in /usr/local/lib/python3.9/dist-packages (from requests[socks]->gdown) (1.26.15)\n",
            "Requirement already satisfied: charset-normalizer~=2.0.0 in /usr/local/lib/python3.9/dist-packages (from requests[socks]->gdown) (2.0.12)\n",
            "Requirement already satisfied: PySocks!=1.5.7,>=1.5.6 in /usr/local/lib/python3.9/dist-packages (from requests[socks]->gdown) (1.7.1)\n",
            "Installing collected packages: gdown\n",
            "  Attempting uninstall: gdown\n",
            "    Found existing installation: gdown 4.6.4\n",
            "    Uninstalling gdown-4.6.4:\n",
            "      Successfully uninstalled gdown-4.6.4\n",
            "Successfully installed gdown-4.6.6\n"
          ]
        }
      ]
    },
    {
      "cell_type": "code",
      "source": [
        "!git clone https://github.com/tgieruc/Noise2Noise_fromScratch"
      ],
      "metadata": {
        "id": "gFNtx-INgjCJ",
        "outputId": "160183d3-d666-4994-b04b-03dae7d0135d",
        "colab": {
          "base_uri": "https://localhost:8080/"
        }
      },
      "execution_count": 2,
      "outputs": [
        {
          "output_type": "stream",
          "name": "stdout",
          "text": [
            "Cloning into 'Noise2Noise_fromScratch'...\n",
            "remote: Enumerating objects: 15, done.\u001b[K\n",
            "remote: Counting objects: 100% (15/15), done.\u001b[K\n",
            "remote: Compressing objects: 100% (13/13), done.\u001b[K\n",
            "remote: Total 15 (delta 4), reused 8 (delta 2), pack-reused 0\u001b[K\n",
            "Unpacking objects: 100% (15/15), 73.79 KiB | 5.68 MiB/s, done.\n"
          ]
        }
      ]
    },
    {
      "cell_type": "code",
      "source": [
        "%cd Noise2Noise_fromScratch/\n",
        "!gdown 1bL4nZBwNs68WAuix3cq-LJZ7QrNIYWH6 # train data\n",
        "!gdown 12nFadfp-uyiE8xtc3wFl9sNBZ_8EpT6m # val data"
      ],
      "metadata": {
        "id": "msJSz3d-gfiC",
        "outputId": "7ce1bd95-3e32-4f1d-8ad2-b7153052041c",
        "colab": {
          "base_uri": "https://localhost:8080/"
        }
      },
      "execution_count": 2,
      "outputs": [
        {
          "output_type": "stream",
          "name": "stdout",
          "text": [
            "/content/Noise2Noise_fromScratch\n",
            "Downloading...\n",
            "From: https://drive.google.com/uc?id=1bL4nZBwNs68WAuix3cq-LJZ7QrNIYWH6\n",
            "To: /content/Noise2Noise_fromScratch/train_data.pkl\n",
            "100% 307M/307M [00:01<00:00, 168MB/s]\n",
            "Downloading...\n",
            "From: https://drive.google.com/uc?id=12nFadfp-uyiE8xtc3wFl9sNBZ_8EpT6m\n",
            "To: /content/Noise2Noise_fromScratch/val_data.pkl\n",
            "100% 6.14M/6.14M [00:00<00:00, 110MB/s]\n"
          ]
        }
      ]
    },
    {
      "cell_type": "code",
      "execution_count": 3,
      "metadata": {
        "id": "gUIHQVJpfaUZ"
      },
      "outputs": [],
      "source": [
        "from model import Model\n",
        "\n",
        "import torch\n",
        "import numpy as np\n",
        "import torchvision.transforms as transforms\n",
        "\n",
        "from matplotlib import pyplot as plt    \n",
        "torch.seed(1337)\n",
        "torch.set_grad_enabled(False)"
      ]
    },
    {
      "cell_type": "code",
      "execution_count": 4,
      "metadata": {
        "id": "Kur3hYaufaUa"
      },
      "outputs": [],
      "source": [
        "def display_rgb(img):\n",
        "    plt.imshow(img.permute(1,2,0))\n",
        "    plt.show()\n",
        "\n",
        "def psnr_eval(model, noised, ground_truth, must_randomize=True):\n",
        "    device = model.device\n",
        "    def psnr(denoised, ground_truth):\n",
        "        mse = torch.mean((denoised.cpu() - ground_truth.cpu()) ** 2)\n",
        "        return -10 * torch.log10(mse + 10 ** -8)\n",
        "    clean_imgs = ground_truth.clone().to(device)\n",
        "    noised = noised.float().to(device)\n",
        "    ground_truth = ground_truth.float().to(device)\n",
        "    denoised = noised.clone().to(device)\n",
        "\n",
        "    \n",
        "\n",
        "    for i in range(len(noised)):\n",
        "        denoised[i] = (model.predict(noised[i].unsqueeze(0)) / 255).cpu().detach()\n",
        "\n",
        "\n",
        "    psnr_result = psnr(denoised, (ground_truth / 255)).item()\n",
        "    print(f'PSNR result: {psnr_result}dB')\n",
        "\n",
        "    nb_images = 3\n",
        "\n",
        "    f, axarr = plt.subplots(nb_images, 3)\n",
        "\n",
        "    if must_randomize:\n",
        "        nb_index = np.random.choice(len(noised), nb_images)\n",
        "    else:\n",
        "        nb_index = np.arange(nb_images)\n",
        "    axarr[0, 0].set_title(\"Noisy Images\")\n",
        "    axarr[0, 1].set_title(\"Denoised\")\n",
        "    axarr[0, 2].set_title(\"Ground Truth\")\n",
        "\n",
        "    for i, index in enumerate(nb_index):\n",
        "        axarr[i, 0].imshow(noised[index].permute(1,2,0).int().cpu() )\n",
        "        axarr[i,0].get_yaxis().set_visible(False)\n",
        "        axarr[i,0].get_xaxis().set_visible(False)\n",
        "        axarr[i, 1].imshow(denoised[index].cpu().detach().permute(1,2,0).cpu() )\n",
        "        axarr[i, 1].get_yaxis().set_visible(False)\n",
        "        axarr[i, 1].get_xaxis().set_visible(False)\n",
        "        axarr[i, 2].imshow(clean_imgs[index].permute(1,2,0).cpu())\n",
        "        axarr[i, 2].get_yaxis().set_visible(False)\n",
        "        axarr[i, 2].get_xaxis().set_visible(False)\n",
        "    plt.show()\n"
      ]
    },
    {
      "cell_type": "code",
      "execution_count": 5,
      "metadata": {
        "colab": {
          "base_uri": "https://localhost:8080/"
        },
        "id": "fWfkakx0faUb",
        "outputId": "a6a28938-03b4-472c-9b86-573673b0b224"
      },
      "outputs": [
        {
          "output_type": "stream",
          "name": "stdout",
          "text": [
            "The model will be loaded on the GPU.\n"
          ]
        }
      ],
      "source": [
        "device = \"cuda\" if torch.cuda.is_available() else \"cpu\"\n",
        "print(f'The model will be loaded on the {\"GPU\" if device == \"cuda\" else \"cpu\"}.')\n",
        "\n",
        "noisy_imgs_1, noisy_imgs_2 = torch.load('train_data.pkl')\n",
        "noisy_imgs, clean_imgs = torch.load('val_data.pkl')"
      ]
    },
    {
      "cell_type": "code",
      "execution_count": 8,
      "metadata": {
        "id": "FnRloAR0faUc"
      },
      "outputs": [],
      "source": [
        "# Create a model\n",
        "model = Model()\n",
        "model.cuda()"
      ]
    },
    {
      "cell_type": "code",
      "execution_count": null,
      "metadata": {
        "colab": {
          "base_uri": "https://localhost:8080/"
        },
        "id": "vrqyOmULfaUc",
        "outputId": "0f3f8d24-472b-49d0-ed7d-14626e8e42a0"
      },
      "outputs": [
        {
          "output_type": "stream",
          "name": "stdout",
          "text": [
            "EPOCH: 1/30\n"
          ]
        },
        {
          "output_type": "stream",
          "name": "stderr",
          "text": [
            "loss: 11604.8961: 100%|██████████| 6250/6250 [04:05<00:00, 25.45batch/s]\n"
          ]
        },
        {
          "output_type": "stream",
          "name": "stdout",
          "text": [
            "6249.0 / 6250 | loss: 11604.896113249511\n",
            "EPOCH: 2/30\n"
          ]
        },
        {
          "output_type": "stream",
          "name": "stderr",
          "text": [
            "loss: 98.4813: 100%|██████████| 6250/6250 [04:02<00:00, 25.81batch/s]\n"
          ]
        },
        {
          "output_type": "stream",
          "name": "stdout",
          "text": [
            "6249.0 / 6250 | loss: 98.4812510293579\n",
            "EPOCH: 3/30\n"
          ]
        },
        {
          "output_type": "stream",
          "name": "stderr",
          "text": [
            "loss: 8.5306: 100%|██████████| 6250/6250 [04:02<00:00, 25.78batch/s]\n"
          ]
        },
        {
          "output_type": "stream",
          "name": "stdout",
          "text": [
            "6249.0 / 6250 | loss: 8.530632406425475\n",
            "EPOCH: 4/30\n"
          ]
        },
        {
          "output_type": "stream",
          "name": "stderr",
          "text": [
            "loss: 2.2261: 100%|██████████| 6250/6250 [04:04<00:00, 25.59batch/s]\n"
          ]
        },
        {
          "output_type": "stream",
          "name": "stdout",
          "text": [
            "6249.0 / 6250 | loss: 2.2260968552494047\n",
            "EPOCH: 5/30\n"
          ]
        },
        {
          "output_type": "stream",
          "name": "stderr",
          "text": [
            "loss: 1.0954: 100%|██████████| 6250/6250 [04:03<00:00, 25.66batch/s]\n"
          ]
        },
        {
          "output_type": "stream",
          "name": "stdout",
          "text": [
            "6249.0 / 6250 | loss: 1.0954320894908904\n",
            "EPOCH: 6/30\n"
          ]
        },
        {
          "output_type": "stream",
          "name": "stderr",
          "text": [
            "loss: 0.7369: 100%|██████████| 6250/6250 [04:01<00:00, 25.86batch/s]\n"
          ]
        },
        {
          "output_type": "stream",
          "name": "stdout",
          "text": [
            "6249.0 / 6250 | loss: 0.7369489511680603\n",
            "EPOCH: 7/30\n"
          ]
        },
        {
          "output_type": "stream",
          "name": "stderr",
          "text": [
            "loss: 0.5827: 100%|██████████| 6250/6250 [04:00<00:00, 25.93batch/s]\n"
          ]
        },
        {
          "output_type": "stream",
          "name": "stdout",
          "text": [
            "6249.0 / 6250 | loss: 0.5827006719255448\n",
            "EPOCH: 8/30\n"
          ]
        },
        {
          "output_type": "stream",
          "name": "stderr",
          "text": [
            "loss: 0.5087: 100%|██████████| 6250/6250 [04:04<00:00, 25.59batch/s]\n"
          ]
        },
        {
          "output_type": "stream",
          "name": "stdout",
          "text": [
            "6249.0 / 6250 | loss: 0.5086721673250199\n",
            "EPOCH: 9/30\n"
          ]
        },
        {
          "output_type": "stream",
          "name": "stderr",
          "text": [
            "loss: 0.4734: 100%|██████████| 6250/6250 [04:02<00:00, 25.78batch/s]\n"
          ]
        },
        {
          "output_type": "stream",
          "name": "stdout",
          "text": [
            "6249.0 / 6250 | loss: 0.47343689447402953\n",
            "EPOCH: 10/30\n"
          ]
        },
        {
          "output_type": "stream",
          "name": "stderr",
          "text": [
            "loss: 0.4523: 100%|██████████| 6250/6250 [04:06<00:00, 25.37batch/s]\n"
          ]
        },
        {
          "output_type": "stream",
          "name": "stdout",
          "text": [
            "6249.0 / 6250 | loss: 0.4523015215539932\n",
            "EPOCH: 11/30\n"
          ]
        },
        {
          "output_type": "stream",
          "name": "stderr",
          "text": [
            "loss: 0.4353: 100%|██████████| 6250/6250 [04:07<00:00, 25.25batch/s]\n"
          ]
        },
        {
          "output_type": "stream",
          "name": "stdout",
          "text": [
            "6249.0 / 6250 | loss: 0.43534168550014496\n",
            "EPOCH: 12/30\n"
          ]
        },
        {
          "output_type": "stream",
          "name": "stderr",
          "text": [
            "loss: 0.4208:  95%|█████████▌| 5948/6250 [03:58<00:11, 26.25batch/s]"
          ]
        }
      ],
      "source": [
        "model.optimizer.lr = 1e-3\n",
        "model.optimizer.momentum = 0.8\n",
        "# train the model \n",
        "model.train(noisy_imgs_1, noisy_imgs_2, num_epochs=30, batch_size=8)"
      ]
    },
    {
      "cell_type": "code",
      "execution_count": null,
      "metadata": {
        "id": "Tfq8afiHfaUc"
      },
      "outputs": [],
      "source": [
        "model.save('model2.pth')"
      ]
    },
    {
      "cell_type": "code",
      "execution_count": null,
      "metadata": {
        "id": "KqfyJEBffaUc",
        "outputId": "e85a3d95-f2aa-4a25-8ea6-8399adc9bcf5"
      },
      "outputs": [
        {
          "name": "stdout",
          "output_type": "stream",
          "text": [
            "PSNR result: 7.886568069458008dB\n"
          ]
        },
        {
          "data": {
            "image/png": "[encoded data removed]",
            "text/plain": [
              "<Figure size 640x480 with 9 Axes>"
            ]
          },
          "metadata": {},
          "output_type": "display_data"
        }
      ],
      "source": [
        "#eval\n",
        "psnr_eval(model, noisy_imgs, clean_imgs, must_randomize=False)\n"
      ]
    },
    {
      "cell_type": "code",
      "execution_count": null,
      "metadata": {
        "id": "7gpemK03faUd"
      },
      "outputs": [],
      "source": []
    },
    {
      "cell_type": "code",
      "execution_count": null,
      "metadata": {
        "id": "d3nAvO1lfaUd",
        "outputId": "68584276-a698-48b9-fe04-17cbaeb33a29"
      },
      "outputs": [
        {
          "data": {
            "text/plain": [
              "<matplotlib.image.AxesImage at 0x7f7fd53b7e20>"
            ]
          },
          "execution_count": 31,
          "metadata": {},
          "output_type": "execute_result"
        },
        {
          "data": {
            "image/png": "[encoded data removed]",
            "text/plain": [
              "<Figure size 640x480 with 1 Axes>"
            ]
          },
          "metadata": {},
          "output_type": "display_data"
        }
      ],
      "source": [
        "plt.imshow(model.predict(noisy_imgs[0].unsqueeze(0)).int()[0].permute(1,2,0))"
      ]
    }
  ],
  "metadata": {
    "kernelspec": {
      "display_name": "noise2noise",
      "language": "python",
      "name": "python3"
    },
    "language_info": {
      "codemirror_mode": {
        "name": "ipython",
        "version": 3
      },
      "file_extension": ".py",
      "mimetype": "text/x-python",
      "name": "python",
      "nbconvert_exporter": "python",
      "pygments_lexer": "ipython3",
      "version": "3.10.8"
    },
    "orig_nbformat": 4,
    "colab": {
      "provenance": [],
      "include_colab_link": true
    },
    "accelerator": "GPU",
    "gpuClass": "standard"
  },
  "nbformat": 4,
  "nbformat_minor": 0
}